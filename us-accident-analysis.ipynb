{
 "cells": [
  {
   "cell_type": "markdown",
   "id": "43215b2b",
   "metadata": {
    "papermill": {
     "duration": 0.015354,
     "end_time": "2024-06-05T16:09:17.094443",
     "exception": false,
     "start_time": "2024-06-05T16:09:17.079089",
     "status": "completed"
    },
    "tags": []
   },
   "source": [
    "\n",
    "# US Accidents Exploratory Data Analysis\n",
    "\n",
    "TODO - talk about EDA\n",
    "\n",
    "TODO - talk about the dataset (source, what it contains, how it will be useful)\n",
    "  - Kaggle\n",
    "  - informaiton about accidents\n",
    "  - can use useful to prevent accidents\n",
    "  - mention that this does not contain data about New York\n"
   ]
  },
  {
   "cell_type": "code",
   "execution_count": 1,
   "id": "f50587b4",
   "metadata": {
    "_cell_guid": "b1076dfc-b9ad-4769-8c92-a6c4dae69d19",
    "_uuid": "8f2839f25d086af736a60e9eeb907d3b93b6e0e5",
    "execution": {
     "iopub.execute_input": "2024-06-05T16:09:17.130236Z",
     "iopub.status.busy": "2024-06-05T16:09:17.129806Z",
     "iopub.status.idle": "2024-06-05T16:09:18.037558Z",
     "shell.execute_reply": "2024-06-05T16:09:18.036305Z"
    },
    "papermill": {
     "duration": 0.930138,
     "end_time": "2024-06-05T16:09:18.040043",
     "exception": false,
     "start_time": "2024-06-05T16:09:17.109905",
     "status": "completed"
    },
    "tags": []
   },
   "outputs": [
    {
     "name": "stdout",
     "output_type": "stream",
     "text": [
      "/kaggle/input/us-accidents/US_Accidents_March23.csv\n"
     ]
    }
   ],
   "source": [
    "# This Python 3 environment comes with many helpful analytics libraries installed\n",
    "# It is defined by the kaggle/python Docker image: https://github.com/kaggle/docker-python\n",
    "# For example, here's several helpful packages to load\n",
    "\n",
    "import numpy as np # linear algebra\n",
    "import pandas as pd # data processing, CSV file I/O (e.g. pd.read_csv)\n",
    "\n",
    "# Input data files are available in the read-only \"../input/\" directory\n",
    "# For example, running this (by clicking run or pressing Shift+Enter) will list all files under the input directory\n",
    "\n",
    "import os\n",
    "for dirname, _, filenames in os.walk('/kaggle/input'):\n",
    "    for filename in filenames:\n",
    "        print(os.path.join(dirname, filename))\n",
    "\n",
    "# You can write up to 20GB to the current directory (/kaggle/working/) that gets preserved as output when you create a version using \"Save & Run All\" \n",
    "# You can also write temporary files to /kaggle/temp/, but they won't be saved outside of the current session"
   ]
  },
  {
   "cell_type": "markdown",
   "id": "1bf9322e",
   "metadata": {
    "papermill": {
     "duration": 0.014921,
     "end_time": "2024-06-05T16:09:18.071026",
     "exception": false,
     "start_time": "2024-06-05T16:09:18.056105",
     "status": "completed"
    },
    "tags": []
   },
   "source": [
    "## Data Preparation and Cleaning\n",
    "\n",
    "1. Load the file using Pandas\n",
    "2. Look at some information about the data & the columns\n",
    "3. Fix any missing or incorrect values"
   ]
  },
  {
   "cell_type": "code",
   "execution_count": 2,
   "id": "49db4d70",
   "metadata": {
    "execution": {
     "iopub.execute_input": "2024-06-05T16:09:18.103537Z",
     "iopub.status.busy": "2024-06-05T16:09:18.102501Z",
     "iopub.status.idle": "2024-06-05T16:11:29.427734Z",
     "shell.execute_reply": "2024-06-05T16:11:29.426560Z"
    },
    "papermill": {
     "duration": 131.345046,
     "end_time": "2024-06-05T16:11:29.431183",
     "exception": false,
     "start_time": "2024-06-05T16:09:18.086137",
     "status": "completed"
    },
    "tags": []
   },
   "outputs": [],
   "source": [
    "df = pd.read_csv('/kaggle/input/us-accidents/US_Accidents_March23.csv')"
   ]
  },
  {
   "cell_type": "code",
   "execution_count": 3,
   "id": "75426a71",
   "metadata": {
    "execution": {
     "iopub.execute_input": "2024-06-05T16:11:29.465543Z",
     "iopub.status.busy": "2024-06-05T16:11:29.464672Z",
     "iopub.status.idle": "2024-06-05T16:11:34.349722Z",
     "shell.execute_reply": "2024-06-05T16:11:34.348646Z"
    },
    "papermill": {
     "duration": 4.905278,
     "end_time": "2024-06-05T16:11:34.352995",
     "exception": false,
     "start_time": "2024-06-05T16:11:29.447717",
     "status": "completed"
    },
    "tags": []
   },
   "outputs": [
    {
     "data": {
      "text/html": [
       "<div>\n",
       "<style scoped>\n",
       "    .dataframe tbody tr th:only-of-type {\n",
       "        vertical-align: middle;\n",
       "    }\n",
       "\n",
       "    .dataframe tbody tr th {\n",
       "        vertical-align: top;\n",
       "    }\n",
       "\n",
       "    .dataframe thead th {\n",
       "        text-align: right;\n",
       "    }\n",
       "</style>\n",
       "<table border=\"1\" class=\"dataframe\">\n",
       "  <thead>\n",
       "    <tr style=\"text-align: right;\">\n",
       "      <th></th>\n",
       "      <th>ID</th>\n",
       "      <th>Source</th>\n",
       "      <th>Severity</th>\n",
       "      <th>Start_Time</th>\n",
       "      <th>End_Time</th>\n",
       "      <th>Start_Lat</th>\n",
       "      <th>Start_Lng</th>\n",
       "      <th>End_Lat</th>\n",
       "      <th>End_Lng</th>\n",
       "      <th>Distance(mi)</th>\n",
       "      <th>...</th>\n",
       "      <th>Roundabout</th>\n",
       "      <th>Station</th>\n",
       "      <th>Stop</th>\n",
       "      <th>Traffic_Calming</th>\n",
       "      <th>Traffic_Signal</th>\n",
       "      <th>Turning_Loop</th>\n",
       "      <th>Sunrise_Sunset</th>\n",
       "      <th>Civil_Twilight</th>\n",
       "      <th>Nautical_Twilight</th>\n",
       "      <th>Astronomical_Twilight</th>\n",
       "    </tr>\n",
       "  </thead>\n",
       "  <tbody>\n",
       "    <tr>\n",
       "      <th>0</th>\n",
       "      <td>A-1</td>\n",
       "      <td>Source2</td>\n",
       "      <td>3</td>\n",
       "      <td>2016-02-08 05:46:00</td>\n",
       "      <td>2016-02-08 11:00:00</td>\n",
       "      <td>39.865147</td>\n",
       "      <td>-84.058723</td>\n",
       "      <td>NaN</td>\n",
       "      <td>NaN</td>\n",
       "      <td>0.010</td>\n",
       "      <td>...</td>\n",
       "      <td>False</td>\n",
       "      <td>False</td>\n",
       "      <td>False</td>\n",
       "      <td>False</td>\n",
       "      <td>False</td>\n",
       "      <td>False</td>\n",
       "      <td>Night</td>\n",
       "      <td>Night</td>\n",
       "      <td>Night</td>\n",
       "      <td>Night</td>\n",
       "    </tr>\n",
       "    <tr>\n",
       "      <th>1</th>\n",
       "      <td>A-2</td>\n",
       "      <td>Source2</td>\n",
       "      <td>2</td>\n",
       "      <td>2016-02-08 06:07:59</td>\n",
       "      <td>2016-02-08 06:37:59</td>\n",
       "      <td>39.928059</td>\n",
       "      <td>-82.831184</td>\n",
       "      <td>NaN</td>\n",
       "      <td>NaN</td>\n",
       "      <td>0.010</td>\n",
       "      <td>...</td>\n",
       "      <td>False</td>\n",
       "      <td>False</td>\n",
       "      <td>False</td>\n",
       "      <td>False</td>\n",
       "      <td>False</td>\n",
       "      <td>False</td>\n",
       "      <td>Night</td>\n",
       "      <td>Night</td>\n",
       "      <td>Night</td>\n",
       "      <td>Day</td>\n",
       "    </tr>\n",
       "    <tr>\n",
       "      <th>2</th>\n",
       "      <td>A-3</td>\n",
       "      <td>Source2</td>\n",
       "      <td>2</td>\n",
       "      <td>2016-02-08 06:49:27</td>\n",
       "      <td>2016-02-08 07:19:27</td>\n",
       "      <td>39.063148</td>\n",
       "      <td>-84.032608</td>\n",
       "      <td>NaN</td>\n",
       "      <td>NaN</td>\n",
       "      <td>0.010</td>\n",
       "      <td>...</td>\n",
       "      <td>False</td>\n",
       "      <td>False</td>\n",
       "      <td>False</td>\n",
       "      <td>False</td>\n",
       "      <td>True</td>\n",
       "      <td>False</td>\n",
       "      <td>Night</td>\n",
       "      <td>Night</td>\n",
       "      <td>Day</td>\n",
       "      <td>Day</td>\n",
       "    </tr>\n",
       "    <tr>\n",
       "      <th>3</th>\n",
       "      <td>A-4</td>\n",
       "      <td>Source2</td>\n",
       "      <td>3</td>\n",
       "      <td>2016-02-08 07:23:34</td>\n",
       "      <td>2016-02-08 07:53:34</td>\n",
       "      <td>39.747753</td>\n",
       "      <td>-84.205582</td>\n",
       "      <td>NaN</td>\n",
       "      <td>NaN</td>\n",
       "      <td>0.010</td>\n",
       "      <td>...</td>\n",
       "      <td>False</td>\n",
       "      <td>False</td>\n",
       "      <td>False</td>\n",
       "      <td>False</td>\n",
       "      <td>False</td>\n",
       "      <td>False</td>\n",
       "      <td>Night</td>\n",
       "      <td>Day</td>\n",
       "      <td>Day</td>\n",
       "      <td>Day</td>\n",
       "    </tr>\n",
       "    <tr>\n",
       "      <th>4</th>\n",
       "      <td>A-5</td>\n",
       "      <td>Source2</td>\n",
       "      <td>2</td>\n",
       "      <td>2016-02-08 07:39:07</td>\n",
       "      <td>2016-02-08 08:09:07</td>\n",
       "      <td>39.627781</td>\n",
       "      <td>-84.188354</td>\n",
       "      <td>NaN</td>\n",
       "      <td>NaN</td>\n",
       "      <td>0.010</td>\n",
       "      <td>...</td>\n",
       "      <td>False</td>\n",
       "      <td>False</td>\n",
       "      <td>False</td>\n",
       "      <td>False</td>\n",
       "      <td>True</td>\n",
       "      <td>False</td>\n",
       "      <td>Day</td>\n",
       "      <td>Day</td>\n",
       "      <td>Day</td>\n",
       "      <td>Day</td>\n",
       "    </tr>\n",
       "    <tr>\n",
       "      <th>...</th>\n",
       "      <td>...</td>\n",
       "      <td>...</td>\n",
       "      <td>...</td>\n",
       "      <td>...</td>\n",
       "      <td>...</td>\n",
       "      <td>...</td>\n",
       "      <td>...</td>\n",
       "      <td>...</td>\n",
       "      <td>...</td>\n",
       "      <td>...</td>\n",
       "      <td>...</td>\n",
       "      <td>...</td>\n",
       "      <td>...</td>\n",
       "      <td>...</td>\n",
       "      <td>...</td>\n",
       "      <td>...</td>\n",
       "      <td>...</td>\n",
       "      <td>...</td>\n",
       "      <td>...</td>\n",
       "      <td>...</td>\n",
       "      <td>...</td>\n",
       "    </tr>\n",
       "    <tr>\n",
       "      <th>7728389</th>\n",
       "      <td>A-7777757</td>\n",
       "      <td>Source1</td>\n",
       "      <td>2</td>\n",
       "      <td>2019-08-23 18:03:25</td>\n",
       "      <td>2019-08-23 18:32:01</td>\n",
       "      <td>34.002480</td>\n",
       "      <td>-117.379360</td>\n",
       "      <td>33.99888</td>\n",
       "      <td>-117.37094</td>\n",
       "      <td>0.543</td>\n",
       "      <td>...</td>\n",
       "      <td>False</td>\n",
       "      <td>False</td>\n",
       "      <td>False</td>\n",
       "      <td>False</td>\n",
       "      <td>False</td>\n",
       "      <td>False</td>\n",
       "      <td>Day</td>\n",
       "      <td>Day</td>\n",
       "      <td>Day</td>\n",
       "      <td>Day</td>\n",
       "    </tr>\n",
       "    <tr>\n",
       "      <th>7728390</th>\n",
       "      <td>A-7777758</td>\n",
       "      <td>Source1</td>\n",
       "      <td>2</td>\n",
       "      <td>2019-08-23 19:11:30</td>\n",
       "      <td>2019-08-23 19:38:23</td>\n",
       "      <td>32.766960</td>\n",
       "      <td>-117.148060</td>\n",
       "      <td>32.76555</td>\n",
       "      <td>-117.15363</td>\n",
       "      <td>0.338</td>\n",
       "      <td>...</td>\n",
       "      <td>False</td>\n",
       "      <td>False</td>\n",
       "      <td>False</td>\n",
       "      <td>False</td>\n",
       "      <td>False</td>\n",
       "      <td>False</td>\n",
       "      <td>Day</td>\n",
       "      <td>Day</td>\n",
       "      <td>Day</td>\n",
       "      <td>Day</td>\n",
       "    </tr>\n",
       "    <tr>\n",
       "      <th>7728391</th>\n",
       "      <td>A-7777759</td>\n",
       "      <td>Source1</td>\n",
       "      <td>2</td>\n",
       "      <td>2019-08-23 19:00:21</td>\n",
       "      <td>2019-08-23 19:28:49</td>\n",
       "      <td>33.775450</td>\n",
       "      <td>-117.847790</td>\n",
       "      <td>33.77740</td>\n",
       "      <td>-117.85727</td>\n",
       "      <td>0.561</td>\n",
       "      <td>...</td>\n",
       "      <td>False</td>\n",
       "      <td>False</td>\n",
       "      <td>False</td>\n",
       "      <td>False</td>\n",
       "      <td>False</td>\n",
       "      <td>False</td>\n",
       "      <td>Day</td>\n",
       "      <td>Day</td>\n",
       "      <td>Day</td>\n",
       "      <td>Day</td>\n",
       "    </tr>\n",
       "    <tr>\n",
       "      <th>7728392</th>\n",
       "      <td>A-7777760</td>\n",
       "      <td>Source1</td>\n",
       "      <td>2</td>\n",
       "      <td>2019-08-23 19:00:21</td>\n",
       "      <td>2019-08-23 19:29:42</td>\n",
       "      <td>33.992460</td>\n",
       "      <td>-118.403020</td>\n",
       "      <td>33.98311</td>\n",
       "      <td>-118.39565</td>\n",
       "      <td>0.772</td>\n",
       "      <td>...</td>\n",
       "      <td>False</td>\n",
       "      <td>False</td>\n",
       "      <td>False</td>\n",
       "      <td>False</td>\n",
       "      <td>False</td>\n",
       "      <td>False</td>\n",
       "      <td>Day</td>\n",
       "      <td>Day</td>\n",
       "      <td>Day</td>\n",
       "      <td>Day</td>\n",
       "    </tr>\n",
       "    <tr>\n",
       "      <th>7728393</th>\n",
       "      <td>A-7777761</td>\n",
       "      <td>Source1</td>\n",
       "      <td>2</td>\n",
       "      <td>2019-08-23 18:52:06</td>\n",
       "      <td>2019-08-23 19:21:31</td>\n",
       "      <td>34.133930</td>\n",
       "      <td>-117.230920</td>\n",
       "      <td>34.13736</td>\n",
       "      <td>-117.23934</td>\n",
       "      <td>0.537</td>\n",
       "      <td>...</td>\n",
       "      <td>False</td>\n",
       "      <td>False</td>\n",
       "      <td>False</td>\n",
       "      <td>False</td>\n",
       "      <td>False</td>\n",
       "      <td>False</td>\n",
       "      <td>Day</td>\n",
       "      <td>Day</td>\n",
       "      <td>Day</td>\n",
       "      <td>Day</td>\n",
       "    </tr>\n",
       "  </tbody>\n",
       "</table>\n",
       "<p>7728394 rows × 46 columns</p>\n",
       "</div>"
      ],
      "text/plain": [
       "                ID   Source  Severity           Start_Time  \\\n",
       "0              A-1  Source2         3  2016-02-08 05:46:00   \n",
       "1              A-2  Source2         2  2016-02-08 06:07:59   \n",
       "2              A-3  Source2         2  2016-02-08 06:49:27   \n",
       "3              A-4  Source2         3  2016-02-08 07:23:34   \n",
       "4              A-5  Source2         2  2016-02-08 07:39:07   \n",
       "...            ...      ...       ...                  ...   \n",
       "7728389  A-7777757  Source1         2  2019-08-23 18:03:25   \n",
       "7728390  A-7777758  Source1         2  2019-08-23 19:11:30   \n",
       "7728391  A-7777759  Source1         2  2019-08-23 19:00:21   \n",
       "7728392  A-7777760  Source1         2  2019-08-23 19:00:21   \n",
       "7728393  A-7777761  Source1         2  2019-08-23 18:52:06   \n",
       "\n",
       "                    End_Time  Start_Lat   Start_Lng   End_Lat    End_Lng  \\\n",
       "0        2016-02-08 11:00:00  39.865147  -84.058723       NaN        NaN   \n",
       "1        2016-02-08 06:37:59  39.928059  -82.831184       NaN        NaN   \n",
       "2        2016-02-08 07:19:27  39.063148  -84.032608       NaN        NaN   \n",
       "3        2016-02-08 07:53:34  39.747753  -84.205582       NaN        NaN   \n",
       "4        2016-02-08 08:09:07  39.627781  -84.188354       NaN        NaN   \n",
       "...                      ...        ...         ...       ...        ...   \n",
       "7728389  2019-08-23 18:32:01  34.002480 -117.379360  33.99888 -117.37094   \n",
       "7728390  2019-08-23 19:38:23  32.766960 -117.148060  32.76555 -117.15363   \n",
       "7728391  2019-08-23 19:28:49  33.775450 -117.847790  33.77740 -117.85727   \n",
       "7728392  2019-08-23 19:29:42  33.992460 -118.403020  33.98311 -118.39565   \n",
       "7728393  2019-08-23 19:21:31  34.133930 -117.230920  34.13736 -117.23934   \n",
       "\n",
       "         Distance(mi)  ... Roundabout Station   Stop Traffic_Calming  \\\n",
       "0               0.010  ...      False   False  False           False   \n",
       "1               0.010  ...      False   False  False           False   \n",
       "2               0.010  ...      False   False  False           False   \n",
       "3               0.010  ...      False   False  False           False   \n",
       "4               0.010  ...      False   False  False           False   \n",
       "...               ...  ...        ...     ...    ...             ...   \n",
       "7728389         0.543  ...      False   False  False           False   \n",
       "7728390         0.338  ...      False   False  False           False   \n",
       "7728391         0.561  ...      False   False  False           False   \n",
       "7728392         0.772  ...      False   False  False           False   \n",
       "7728393         0.537  ...      False   False  False           False   \n",
       "\n",
       "        Traffic_Signal Turning_Loop Sunrise_Sunset Civil_Twilight  \\\n",
       "0                False        False          Night          Night   \n",
       "1                False        False          Night          Night   \n",
       "2                 True        False          Night          Night   \n",
       "3                False        False          Night            Day   \n",
       "4                 True        False            Day            Day   \n",
       "...                ...          ...            ...            ...   \n",
       "7728389          False        False            Day            Day   \n",
       "7728390          False        False            Day            Day   \n",
       "7728391          False        False            Day            Day   \n",
       "7728392          False        False            Day            Day   \n",
       "7728393          False        False            Day            Day   \n",
       "\n",
       "        Nautical_Twilight Astronomical_Twilight  \n",
       "0                   Night                 Night  \n",
       "1                   Night                   Day  \n",
       "2                     Day                   Day  \n",
       "3                     Day                   Day  \n",
       "4                     Day                   Day  \n",
       "...                   ...                   ...  \n",
       "7728389               Day                   Day  \n",
       "7728390               Day                   Day  \n",
       "7728391               Day                   Day  \n",
       "7728392               Day                   Day  \n",
       "7728393               Day                   Day  \n",
       "\n",
       "[7728394 rows x 46 columns]"
      ]
     },
     "execution_count": 3,
     "metadata": {},
     "output_type": "execute_result"
    }
   ],
   "source": [
    "df"
   ]
  },
  {
   "cell_type": "code",
   "execution_count": 4,
   "id": "41aaac15",
   "metadata": {
    "execution": {
     "iopub.execute_input": "2024-06-05T16:11:34.386879Z",
     "iopub.status.busy": "2024-06-05T16:11:34.386495Z",
     "iopub.status.idle": "2024-06-05T16:11:34.408571Z",
     "shell.execute_reply": "2024-06-05T16:11:34.407513Z"
    },
    "papermill": {
     "duration": 0.042347,
     "end_time": "2024-06-05T16:11:34.411483",
     "exception": false,
     "start_time": "2024-06-05T16:11:34.369136",
     "status": "completed"
    },
    "tags": []
   },
   "outputs": [
    {
     "name": "stdout",
     "output_type": "stream",
     "text": [
      "<class 'pandas.core.frame.DataFrame'>\n",
      "RangeIndex: 7728394 entries, 0 to 7728393\n",
      "Data columns (total 46 columns):\n",
      " #   Column                 Dtype  \n",
      "---  ------                 -----  \n",
      " 0   ID                     object \n",
      " 1   Source                 object \n",
      " 2   Severity               int64  \n",
      " 3   Start_Time             object \n",
      " 4   End_Time               object \n",
      " 5   Start_Lat              float64\n",
      " 6   Start_Lng              float64\n",
      " 7   End_Lat                float64\n",
      " 8   End_Lng                float64\n",
      " 9   Distance(mi)           float64\n",
      " 10  Description            object \n",
      " 11  Street                 object \n",
      " 12  City                   object \n",
      " 13  County                 object \n",
      " 14  State                  object \n",
      " 15  Zipcode                object \n",
      " 16  Country                object \n",
      " 17  Timezone               object \n",
      " 18  Airport_Code           object \n",
      " 19  Weather_Timestamp      object \n",
      " 20  Temperature(F)         float64\n",
      " 21  Wind_Chill(F)          float64\n",
      " 22  Humidity(%)            float64\n",
      " 23  Pressure(in)           float64\n",
      " 24  Visibility(mi)         float64\n",
      " 25  Wind_Direction         object \n",
      " 26  Wind_Speed(mph)        float64\n",
      " 27  Precipitation(in)      float64\n",
      " 28  Weather_Condition      object \n",
      " 29  Amenity                bool   \n",
      " 30  Bump                   bool   \n",
      " 31  Crossing               bool   \n",
      " 32  Give_Way               bool   \n",
      " 33  Junction               bool   \n",
      " 34  No_Exit                bool   \n",
      " 35  Railway                bool   \n",
      " 36  Roundabout             bool   \n",
      " 37  Station                bool   \n",
      " 38  Stop                   bool   \n",
      " 39  Traffic_Calming        bool   \n",
      " 40  Traffic_Signal         bool   \n",
      " 41  Turning_Loop           bool   \n",
      " 42  Sunrise_Sunset         object \n",
      " 43  Civil_Twilight         object \n",
      " 44  Nautical_Twilight      object \n",
      " 45  Astronomical_Twilight  object \n",
      "dtypes: bool(13), float64(12), int64(1), object(20)\n",
      "memory usage: 2.0+ GB\n"
     ]
    }
   ],
   "source": [
    "df.info()"
   ]
  },
  {
   "cell_type": "code",
   "execution_count": 5,
   "id": "dd7b2ade",
   "metadata": {
    "execution": {
     "iopub.execute_input": "2024-06-05T16:11:34.445596Z",
     "iopub.status.busy": "2024-06-05T16:11:34.444920Z",
     "iopub.status.idle": "2024-06-05T16:11:39.316319Z",
     "shell.execute_reply": "2024-06-05T16:11:39.315103Z"
    },
    "papermill": {
     "duration": 4.896947,
     "end_time": "2024-06-05T16:11:39.324466",
     "exception": false,
     "start_time": "2024-06-05T16:11:34.427519",
     "status": "completed"
    },
    "tags": []
   },
   "outputs": [
    {
     "data": {
      "text/html": [
       "<div>\n",
       "<style scoped>\n",
       "    .dataframe tbody tr th:only-of-type {\n",
       "        vertical-align: middle;\n",
       "    }\n",
       "\n",
       "    .dataframe tbody tr th {\n",
       "        vertical-align: top;\n",
       "    }\n",
       "\n",
       "    .dataframe thead th {\n",
       "        text-align: right;\n",
       "    }\n",
       "</style>\n",
       "<table border=\"1\" class=\"dataframe\">\n",
       "  <thead>\n",
       "    <tr style=\"text-align: right;\">\n",
       "      <th></th>\n",
       "      <th>Severity</th>\n",
       "      <th>Start_Lat</th>\n",
       "      <th>Start_Lng</th>\n",
       "      <th>End_Lat</th>\n",
       "      <th>End_Lng</th>\n",
       "      <th>Distance(mi)</th>\n",
       "      <th>Temperature(F)</th>\n",
       "      <th>Wind_Chill(F)</th>\n",
       "      <th>Humidity(%)</th>\n",
       "      <th>Pressure(in)</th>\n",
       "      <th>Visibility(mi)</th>\n",
       "      <th>Wind_Speed(mph)</th>\n",
       "      <th>Precipitation(in)</th>\n",
       "    </tr>\n",
       "  </thead>\n",
       "  <tbody>\n",
       "    <tr>\n",
       "      <th>count</th>\n",
       "      <td>7.728394e+06</td>\n",
       "      <td>7.728394e+06</td>\n",
       "      <td>7.728394e+06</td>\n",
       "      <td>4.325632e+06</td>\n",
       "      <td>4.325632e+06</td>\n",
       "      <td>7.728394e+06</td>\n",
       "      <td>7.564541e+06</td>\n",
       "      <td>5.729375e+06</td>\n",
       "      <td>7.554250e+06</td>\n",
       "      <td>7.587715e+06</td>\n",
       "      <td>7.551296e+06</td>\n",
       "      <td>7.157161e+06</td>\n",
       "      <td>5.524808e+06</td>\n",
       "    </tr>\n",
       "    <tr>\n",
       "      <th>mean</th>\n",
       "      <td>2.212384e+00</td>\n",
       "      <td>3.620119e+01</td>\n",
       "      <td>-9.470255e+01</td>\n",
       "      <td>3.626183e+01</td>\n",
       "      <td>-9.572557e+01</td>\n",
       "      <td>5.618423e-01</td>\n",
       "      <td>6.166329e+01</td>\n",
       "      <td>5.825105e+01</td>\n",
       "      <td>6.483104e+01</td>\n",
       "      <td>2.953899e+01</td>\n",
       "      <td>9.090376e+00</td>\n",
       "      <td>7.685490e+00</td>\n",
       "      <td>8.407210e-03</td>\n",
       "    </tr>\n",
       "    <tr>\n",
       "      <th>std</th>\n",
       "      <td>4.875313e-01</td>\n",
       "      <td>5.076079e+00</td>\n",
       "      <td>1.739176e+01</td>\n",
       "      <td>5.272905e+00</td>\n",
       "      <td>1.810793e+01</td>\n",
       "      <td>1.776811e+00</td>\n",
       "      <td>1.901365e+01</td>\n",
       "      <td>2.238983e+01</td>\n",
       "      <td>2.282097e+01</td>\n",
       "      <td>1.006190e+00</td>\n",
       "      <td>2.688316e+00</td>\n",
       "      <td>5.424983e+00</td>\n",
       "      <td>1.102246e-01</td>\n",
       "    </tr>\n",
       "    <tr>\n",
       "      <th>min</th>\n",
       "      <td>1.000000e+00</td>\n",
       "      <td>2.455480e+01</td>\n",
       "      <td>-1.246238e+02</td>\n",
       "      <td>2.456601e+01</td>\n",
       "      <td>-1.245457e+02</td>\n",
       "      <td>0.000000e+00</td>\n",
       "      <td>-8.900000e+01</td>\n",
       "      <td>-8.900000e+01</td>\n",
       "      <td>1.000000e+00</td>\n",
       "      <td>0.000000e+00</td>\n",
       "      <td>0.000000e+00</td>\n",
       "      <td>0.000000e+00</td>\n",
       "      <td>0.000000e+00</td>\n",
       "    </tr>\n",
       "    <tr>\n",
       "      <th>25%</th>\n",
       "      <td>2.000000e+00</td>\n",
       "      <td>3.339963e+01</td>\n",
       "      <td>-1.172194e+02</td>\n",
       "      <td>3.346207e+01</td>\n",
       "      <td>-1.177543e+02</td>\n",
       "      <td>0.000000e+00</td>\n",
       "      <td>4.900000e+01</td>\n",
       "      <td>4.300000e+01</td>\n",
       "      <td>4.800000e+01</td>\n",
       "      <td>2.937000e+01</td>\n",
       "      <td>1.000000e+01</td>\n",
       "      <td>4.600000e+00</td>\n",
       "      <td>0.000000e+00</td>\n",
       "    </tr>\n",
       "    <tr>\n",
       "      <th>50%</th>\n",
       "      <td>2.000000e+00</td>\n",
       "      <td>3.582397e+01</td>\n",
       "      <td>-8.776662e+01</td>\n",
       "      <td>3.618349e+01</td>\n",
       "      <td>-8.802789e+01</td>\n",
       "      <td>3.000000e-02</td>\n",
       "      <td>6.400000e+01</td>\n",
       "      <td>6.200000e+01</td>\n",
       "      <td>6.700000e+01</td>\n",
       "      <td>2.986000e+01</td>\n",
       "      <td>1.000000e+01</td>\n",
       "      <td>7.000000e+00</td>\n",
       "      <td>0.000000e+00</td>\n",
       "    </tr>\n",
       "    <tr>\n",
       "      <th>75%</th>\n",
       "      <td>2.000000e+00</td>\n",
       "      <td>4.008496e+01</td>\n",
       "      <td>-8.035368e+01</td>\n",
       "      <td>4.017892e+01</td>\n",
       "      <td>-8.024709e+01</td>\n",
       "      <td>4.640000e-01</td>\n",
       "      <td>7.600000e+01</td>\n",
       "      <td>7.500000e+01</td>\n",
       "      <td>8.400000e+01</td>\n",
       "      <td>3.003000e+01</td>\n",
       "      <td>1.000000e+01</td>\n",
       "      <td>1.040000e+01</td>\n",
       "      <td>0.000000e+00</td>\n",
       "    </tr>\n",
       "    <tr>\n",
       "      <th>max</th>\n",
       "      <td>4.000000e+00</td>\n",
       "      <td>4.900220e+01</td>\n",
       "      <td>-6.711317e+01</td>\n",
       "      <td>4.907500e+01</td>\n",
       "      <td>-6.710924e+01</td>\n",
       "      <td>4.417500e+02</td>\n",
       "      <td>2.070000e+02</td>\n",
       "      <td>2.070000e+02</td>\n",
       "      <td>1.000000e+02</td>\n",
       "      <td>5.863000e+01</td>\n",
       "      <td>1.400000e+02</td>\n",
       "      <td>1.087000e+03</td>\n",
       "      <td>3.647000e+01</td>\n",
       "    </tr>\n",
       "  </tbody>\n",
       "</table>\n",
       "</div>"
      ],
      "text/plain": [
       "           Severity     Start_Lat     Start_Lng       End_Lat       End_Lng  \\\n",
       "count  7.728394e+06  7.728394e+06  7.728394e+06  4.325632e+06  4.325632e+06   \n",
       "mean   2.212384e+00  3.620119e+01 -9.470255e+01  3.626183e+01 -9.572557e+01   \n",
       "std    4.875313e-01  5.076079e+00  1.739176e+01  5.272905e+00  1.810793e+01   \n",
       "min    1.000000e+00  2.455480e+01 -1.246238e+02  2.456601e+01 -1.245457e+02   \n",
       "25%    2.000000e+00  3.339963e+01 -1.172194e+02  3.346207e+01 -1.177543e+02   \n",
       "50%    2.000000e+00  3.582397e+01 -8.776662e+01  3.618349e+01 -8.802789e+01   \n",
       "75%    2.000000e+00  4.008496e+01 -8.035368e+01  4.017892e+01 -8.024709e+01   \n",
       "max    4.000000e+00  4.900220e+01 -6.711317e+01  4.907500e+01 -6.710924e+01   \n",
       "\n",
       "       Distance(mi)  Temperature(F)  Wind_Chill(F)   Humidity(%)  \\\n",
       "count  7.728394e+06    7.564541e+06   5.729375e+06  7.554250e+06   \n",
       "mean   5.618423e-01    6.166329e+01   5.825105e+01  6.483104e+01   \n",
       "std    1.776811e+00    1.901365e+01   2.238983e+01  2.282097e+01   \n",
       "min    0.000000e+00   -8.900000e+01  -8.900000e+01  1.000000e+00   \n",
       "25%    0.000000e+00    4.900000e+01   4.300000e+01  4.800000e+01   \n",
       "50%    3.000000e-02    6.400000e+01   6.200000e+01  6.700000e+01   \n",
       "75%    4.640000e-01    7.600000e+01   7.500000e+01  8.400000e+01   \n",
       "max    4.417500e+02    2.070000e+02   2.070000e+02  1.000000e+02   \n",
       "\n",
       "       Pressure(in)  Visibility(mi)  Wind_Speed(mph)  Precipitation(in)  \n",
       "count  7.587715e+06    7.551296e+06     7.157161e+06       5.524808e+06  \n",
       "mean   2.953899e+01    9.090376e+00     7.685490e+00       8.407210e-03  \n",
       "std    1.006190e+00    2.688316e+00     5.424983e+00       1.102246e-01  \n",
       "min    0.000000e+00    0.000000e+00     0.000000e+00       0.000000e+00  \n",
       "25%    2.937000e+01    1.000000e+01     4.600000e+00       0.000000e+00  \n",
       "50%    2.986000e+01    1.000000e+01     7.000000e+00       0.000000e+00  \n",
       "75%    3.003000e+01    1.000000e+01     1.040000e+01       0.000000e+00  \n",
       "max    5.863000e+01    1.400000e+02     1.087000e+03       3.647000e+01  "
      ]
     },
     "execution_count": 5,
     "metadata": {},
     "output_type": "execute_result"
    }
   ],
   "source": [
    "df.describe()"
   ]
  },
  {
   "cell_type": "code",
   "execution_count": 6,
   "id": "cf050361",
   "metadata": {
    "execution": {
     "iopub.execute_input": "2024-06-05T16:11:39.362268Z",
     "iopub.status.busy": "2024-06-05T16:11:39.361834Z",
     "iopub.status.idle": "2024-06-05T16:11:39.681266Z",
     "shell.execute_reply": "2024-06-05T16:11:39.680202Z"
    },
    "papermill": {
     "duration": 0.340667,
     "end_time": "2024-06-05T16:11:39.683946",
     "exception": false,
     "start_time": "2024-06-05T16:11:39.343279",
     "status": "completed"
    },
    "tags": []
   },
   "outputs": [
    {
     "data": {
      "text/plain": [
       "13"
      ]
     },
     "execution_count": 6,
     "metadata": {},
     "output_type": "execute_result"
    }
   ],
   "source": [
    "numerics = ['int16', 'int32', 'int64', 'float16', 'float32', 'float64']\n",
    "\n",
    "numeric_df = df.select_dtypes(include=numerics)\n",
    "len(numeric_df.columns)"
   ]
  },
  {
   "cell_type": "code",
   "execution_count": 7,
   "id": "4d5cc3a8",
   "metadata": {
    "execution": {
     "iopub.execute_input": "2024-06-05T16:11:39.723688Z",
     "iopub.status.busy": "2024-06-05T16:11:39.723292Z",
     "iopub.status.idle": "2024-06-05T16:11:39.729990Z",
     "shell.execute_reply": "2024-06-05T16:11:39.728901Z"
    },
    "papermill": {
     "duration": 0.029507,
     "end_time": "2024-06-05T16:11:39.732713",
     "exception": false,
     "start_time": "2024-06-05T16:11:39.703206",
     "status": "completed"
    },
    "tags": []
   },
   "outputs": [
    {
     "data": {
      "text/plain": [
       "7728394"
      ]
     },
     "execution_count": 7,
     "metadata": {},
     "output_type": "execute_result"
    }
   ],
   "source": [
    "len(df)"
   ]
  },
  {
   "cell_type": "markdown",
   "id": "448eff09",
   "metadata": {
    "papermill": {
     "duration": 0.016641,
     "end_time": "2024-06-05T16:11:39.766303",
     "exception": false,
     "start_time": "2024-06-05T16:11:39.749662",
     "status": "completed"
    },
    "tags": []
   },
   "source": [
    "Percentage of missing values per column"
   ]
  },
  {
   "cell_type": "code",
   "execution_count": 8,
   "id": "41571fd3",
   "metadata": {
    "execution": {
     "iopub.execute_input": "2024-06-05T16:11:39.801978Z",
     "iopub.status.busy": "2024-06-05T16:11:39.801556Z",
     "iopub.status.idle": "2024-06-05T16:11:57.850465Z",
     "shell.execute_reply": "2024-06-05T16:11:57.849043Z"
    },
    "papermill": {
     "duration": 18.070742,
     "end_time": "2024-06-05T16:11:57.853889",
     "exception": false,
     "start_time": "2024-06-05T16:11:39.783147",
     "status": "completed"
    },
    "tags": []
   },
   "outputs": [
    {
     "data": {
      "text/plain": [
       "End_Lat                  4.402935e-01\n",
       "End_Lng                  4.402935e-01\n",
       "Precipitation(in)        2.851286e-01\n",
       "Wind_Chill(F)            2.586590e-01\n",
       "Wind_Speed(mph)          7.391355e-02\n",
       "Visibility(mi)           2.291524e-02\n",
       "Wind_Direction           2.267043e-02\n",
       "Humidity(%)              2.253301e-02\n",
       "Weather_Condition        2.244438e-02\n",
       "Temperature(F)           2.120143e-02\n",
       "Pressure(in)             1.820288e-02\n",
       "Weather_Timestamp        1.555666e-02\n",
       "Nautical_Twilight        3.007869e-03\n",
       "Civil_Twilight           3.007869e-03\n",
       "Sunrise_Sunset           3.007869e-03\n",
       "Astronomical_Twilight    3.007869e-03\n",
       "Airport_Code             2.928810e-03\n",
       "Street                   1.406372e-03\n",
       "Timezone                 1.010300e-03\n",
       "Zipcode                  2.477876e-04\n",
       "City                     3.273643e-05\n",
       "Description              6.469649e-07\n",
       "Traffic_Signal           0.000000e+00\n",
       "Roundabout               0.000000e+00\n",
       "Station                  0.000000e+00\n",
       "Stop                     0.000000e+00\n",
       "Traffic_Calming          0.000000e+00\n",
       "Country                  0.000000e+00\n",
       "Turning_Loop             0.000000e+00\n",
       "No_Exit                  0.000000e+00\n",
       "End_Time                 0.000000e+00\n",
       "Start_Time               0.000000e+00\n",
       "Severity                 0.000000e+00\n",
       "Railway                  0.000000e+00\n",
       "Crossing                 0.000000e+00\n",
       "Junction                 0.000000e+00\n",
       "Give_Way                 0.000000e+00\n",
       "Bump                     0.000000e+00\n",
       "Amenity                  0.000000e+00\n",
       "Start_Lat                0.000000e+00\n",
       "Start_Lng                0.000000e+00\n",
       "Distance(mi)             0.000000e+00\n",
       "Source                   0.000000e+00\n",
       "County                   0.000000e+00\n",
       "State                    0.000000e+00\n",
       "ID                       0.000000e+00\n",
       "dtype: float64"
      ]
     },
     "execution_count": 8,
     "metadata": {},
     "output_type": "execute_result"
    }
   ],
   "source": [
    "missing_percentages = df.isna().sum().sort_values(ascending=False) / len(df)\n",
    "missing_percentages"
   ]
  },
  {
   "cell_type": "code",
   "execution_count": 9,
   "id": "90b781f7",
   "metadata": {
    "execution": {
     "iopub.execute_input": "2024-06-05T16:11:57.891218Z",
     "iopub.status.busy": "2024-06-05T16:11:57.890125Z",
     "iopub.status.idle": "2024-06-05T16:11:57.897612Z",
     "shell.execute_reply": "2024-06-05T16:11:57.896547Z"
    },
    "papermill": {
     "duration": 0.028516,
     "end_time": "2024-06-05T16:11:57.900039",
     "exception": false,
     "start_time": "2024-06-05T16:11:57.871523",
     "status": "completed"
    },
    "tags": []
   },
   "outputs": [
    {
     "data": {
      "text/plain": [
       "pandas.core.series.Series"
      ]
     },
     "execution_count": 9,
     "metadata": {},
     "output_type": "execute_result"
    }
   ],
   "source": [
    "type(missing_percentages)"
   ]
  },
  {
   "cell_type": "code",
   "execution_count": 10,
   "id": "81e0befa",
   "metadata": {
    "execution": {
     "iopub.execute_input": "2024-06-05T16:11:57.936145Z",
     "iopub.status.busy": "2024-06-05T16:11:57.935727Z",
     "iopub.status.idle": "2024-06-05T16:11:58.369453Z",
     "shell.execute_reply": "2024-06-05T16:11:58.368310Z"
    },
    "papermill": {
     "duration": 0.455314,
     "end_time": "2024-06-05T16:11:58.372445",
     "exception": false,
     "start_time": "2024-06-05T16:11:57.917131",
     "status": "completed"
    },
    "tags": []
   },
   "outputs": [
    {
     "data": {
      "text/plain": [
       "<Axes: >"
      ]
     },
     "execution_count": 10,
     "metadata": {},
     "output_type": "execute_result"
    },
    {
     "data": {
      "image/png": "[encoded data removed]",
      "text/plain": [
       "<Figure size 640x480 with 1 Axes>"
      ]
     },
     "metadata": {},
     "output_type": "display_data"
    }
   ],
   "source": [
    "missing_percentages[missing_percentages != 0].plot(kind='barh')"
   ]
  },
  {
   "cell_type": "markdown",
   "id": "3b0beec3",
   "metadata": {
    "papermill": {
     "duration": 0.017865,
     "end_time": "2024-06-05T16:11:58.409140",
     "exception": false,
     "start_time": "2024-06-05T16:11:58.391275",
     "status": "completed"
    },
    "tags": []
   },
   "source": [
    "## Exploratory Analysis and Visualization\n",
    "\n",
    "Columns we'll analyze:\n",
    "\n",
    "1. City\n",
    "2. Start Time\n",
    "3. Start Lat, Start Lng\n",
    "4. Temperature\n",
    "5. Weather Condition"
   ]
  },
  {
   "cell_type": "code",
   "execution_count": 11,
   "id": "00166cf3",
   "metadata": {
    "execution": {
     "iopub.execute_input": "2024-06-05T16:11:58.447166Z",
     "iopub.status.busy": "2024-06-05T16:11:58.446717Z",
     "iopub.status.idle": "2024-06-05T16:11:58.454554Z",
     "shell.execute_reply": "2024-06-05T16:11:58.453482Z"
    },
    "papermill": {
     "duration": 0.029653,
     "end_time": "2024-06-05T16:11:58.456994",
     "exception": false,
     "start_time": "2024-06-05T16:11:58.427341",
     "status": "completed"
    },
    "tags": []
   },
   "outputs": [
    {
     "data": {
      "text/plain": [
       "Index(['ID', 'Source', 'Severity', 'Start_Time', 'End_Time', 'Start_Lat',\n",
       "       'Start_Lng', 'End_Lat', 'End_Lng', 'Distance(mi)', 'Description',\n",
       "       'Street', 'City', 'County', 'State', 'Zipcode', 'Country', 'Timezone',\n",
       "       'Airport_Code', 'Weather_Timestamp', 'Temperature(F)', 'Wind_Chill(F)',\n",
       "       'Humidity(%)', 'Pressure(in)', 'Visibility(mi)', 'Wind_Direction',\n",
       "       'Wind_Speed(mph)', 'Precipitation(in)', 'Weather_Condition', 'Amenity',\n",
       "       'Bump', 'Crossing', 'Give_Way', 'Junction', 'No_Exit', 'Railway',\n",
       "       'Roundabout', 'Station', 'Stop', 'Traffic_Calming', 'Traffic_Signal',\n",
       "       'Turning_Loop', 'Sunrise_Sunset', 'Civil_Twilight', 'Nautical_Twilight',\n",
       "       'Astronomical_Twilight'],\n",
       "      dtype='object')"
      ]
     },
     "execution_count": 11,
     "metadata": {},
     "output_type": "execute_result"
    }
   ],
   "source": [
    "df.columns"
   ]
  },
  {
   "cell_type": "markdown",
   "id": "149ccc33",
   "metadata": {
    "papermill": {
     "duration": 0.017921,
     "end_time": "2024-06-05T16:11:58.493215",
     "exception": false,
     "start_time": "2024-06-05T16:11:58.475294",
     "status": "completed"
    },
    "tags": []
   },
   "source": [
    "### City"
   ]
  },
  {
   "cell_type": "code",
   "execution_count": 12,
   "id": "ea14e217",
   "metadata": {
    "execution": {
     "iopub.execute_input": "2024-06-05T16:11:58.531424Z",
     "iopub.status.busy": "2024-06-05T16:11:58.531006Z",
     "iopub.status.idle": "2024-06-05T16:11:58.540193Z",
     "shell.execute_reply": "2024-06-05T16:11:58.539045Z"
    },
    "papermill": {
     "duration": 0.031088,
     "end_time": "2024-06-05T16:11:58.542480",
     "exception": false,
     "start_time": "2024-06-05T16:11:58.511392",
     "status": "completed"
    },
    "tags": []
   },
   "outputs": [
    {
     "data": {
      "text/plain": [
       "0                Dayton\n",
       "1          Reynoldsburg\n",
       "2          Williamsburg\n",
       "3                Dayton\n",
       "4                Dayton\n",
       "               ...     \n",
       "7728389       Riverside\n",
       "7728390       San Diego\n",
       "7728391          Orange\n",
       "7728392     Culver City\n",
       "7728393        Highland\n",
       "Name: City, Length: 7728394, dtype: object"
      ]
     },
     "execution_count": 12,
     "metadata": {},
     "output_type": "execute_result"
    }
   ],
   "source": [
    "df.City"
   ]
  },
  {
   "cell_type": "code",
   "execution_count": 13,
   "id": "dea6c90d",
   "metadata": {
    "execution": {
     "iopub.execute_input": "2024-06-05T16:11:58.581140Z",
     "iopub.status.busy": "2024-06-05T16:11:58.580717Z",
     "iopub.status.idle": "2024-06-05T16:11:59.484674Z",
     "shell.execute_reply": "2024-06-05T16:11:59.483579Z"
    },
    "papermill": {
     "duration": 0.926224,
     "end_time": "2024-06-05T16:11:59.487226",
     "exception": false,
     "start_time": "2024-06-05T16:11:58.561002",
     "status": "completed"
    },
    "tags": []
   },
   "outputs": [
    {
     "data": {
      "text/plain": [
       "13679"
      ]
     },
     "execution_count": 13,
     "metadata": {},
     "output_type": "execute_result"
    }
   ],
   "source": [
    "cities = df.City.unique()\n",
    "len(cities)"
   ]
  },
  {
   "cell_type": "code",
   "execution_count": 14,
   "id": "5481e99a",
   "metadata": {
    "execution": {
     "iopub.execute_input": "2024-06-05T16:11:59.528327Z",
     "iopub.status.busy": "2024-06-05T16:11:59.527443Z",
     "iopub.status.idle": "2024-06-05T16:12:01.188288Z",
     "shell.execute_reply": "2024-06-05T16:12:01.187129Z"
    },
    "papermill": {
     "duration": 1.685049,
     "end_time": "2024-06-05T16:12:01.190890",
     "exception": false,
     "start_time": "2024-06-05T16:11:59.505841",
     "status": "completed"
    },
    "tags": []
   },
   "outputs": [
    {
     "data": {
      "text/plain": [
       "City\n",
       "Miami                           186917\n",
       "Houston                         169609\n",
       "Los Angeles                     156491\n",
       "Charlotte                       138652\n",
       "Dallas                          130939\n",
       "                                 ...  \n",
       "Benkelman                            1\n",
       "Old Appleton                         1\n",
       "Wildrose                             1\n",
       "Mc Nabb                              1\n",
       "American Fork-Pleasant Grove         1\n",
       "Name: count, Length: 13678, dtype: int64"
      ]
     },
     "execution_count": 14,
     "metadata": {},
     "output_type": "execute_result"
    }
   ],
   "source": [
    "cities_by_accident = df.City.value_counts()\n",
    "cities_by_accident"
   ]
  },
  {
   "cell_type": "code",
   "execution_count": 15,
   "id": "5e31600c",
   "metadata": {
    "execution": {
     "iopub.execute_input": "2024-06-05T16:12:01.231254Z",
     "iopub.status.busy": "2024-06-05T16:12:01.230187Z",
     "iopub.status.idle": "2024-06-05T16:12:01.240157Z",
     "shell.execute_reply": "2024-06-05T16:12:01.239041Z"
    },
    "papermill": {
     "duration": 0.032977,
     "end_time": "2024-06-05T16:12:01.242808",
     "exception": false,
     "start_time": "2024-06-05T16:12:01.209831",
     "status": "completed"
    },
    "tags": []
   },
   "outputs": [
    {
     "data": {
      "text/plain": [
       "City\n",
       "Miami            186917\n",
       "Houston          169609\n",
       "Los Angeles      156491\n",
       "Charlotte        138652\n",
       "Dallas           130939\n",
       "Orlando          109733\n",
       "Austin            97359\n",
       "Raleigh           86079\n",
       "Nashville         72930\n",
       "Baton Rouge       71588\n",
       "Atlanta           68186\n",
       "Sacramento        66264\n",
       "San Diego         55504\n",
       "Phoenix           53974\n",
       "Minneapolis       51488\n",
       "Richmond          48845\n",
       "Oklahoma City     46092\n",
       "Jacksonville      42447\n",
       "Tucson            39304\n",
       "Columbia          38178\n",
       "Name: count, dtype: int64"
      ]
     },
     "execution_count": 15,
     "metadata": {},
     "output_type": "execute_result"
    }
   ],
   "source": [
    "cities_by_accident[:20]"
   ]
  },
  {
   "cell_type": "code",
   "execution_count": 16,
   "id": "6dcc9bbf",
   "metadata": {
    "execution": {
     "iopub.execute_input": "2024-06-05T16:12:01.284264Z",
     "iopub.status.busy": "2024-06-05T16:12:01.283171Z",
     "iopub.status.idle": "2024-06-05T16:12:01.290174Z",
     "shell.execute_reply": "2024-06-05T16:12:01.289126Z"
    },
    "papermill": {
     "duration": 0.030187,
     "end_time": "2024-06-05T16:12:01.292565",
     "exception": false,
     "start_time": "2024-06-05T16:12:01.262378",
     "status": "completed"
    },
    "tags": []
   },
   "outputs": [
    {
     "data": {
      "text/plain": [
       "pandas.core.series.Series"
      ]
     },
     "execution_count": 16,
     "metadata": {},
     "output_type": "execute_result"
    }
   ],
   "source": [
    "type(cities_by_accident)"
   ]
  },
  {
   "cell_type": "code",
   "execution_count": 17,
   "id": "6069cf59",
   "metadata": {
    "execution": {
     "iopub.execute_input": "2024-06-05T16:12:01.334329Z",
     "iopub.status.busy": "2024-06-05T16:12:01.333557Z",
     "iopub.status.idle": "2024-06-05T16:12:01.740625Z",
     "shell.execute_reply": "2024-06-05T16:12:01.739470Z"
    },
    "papermill": {
     "duration": 0.430374,
     "end_time": "2024-06-05T16:12:01.743464",
     "exception": false,
     "start_time": "2024-06-05T16:12:01.313090",
     "status": "completed"
    },
    "tags": []
   },
   "outputs": [
    {
     "data": {
      "text/plain": [
       "<Axes: ylabel='City'>"
      ]
     },
     "execution_count": 17,
     "metadata": {},
     "output_type": "execute_result"
    },
    {
     "data": {
      "image/png": "[encoded data removed]",
      "text/plain": [
       "<Figure size 640x480 with 1 Axes>"
      ]
     },
     "metadata": {},
     "output_type": "display_data"
    }
   ],
   "source": [
    "cities_by_accident[:20].plot(kind='barh')"
   ]
  },
  {
   "cell_type": "code",
   "execution_count": 18,
   "id": "6f97c0a2",
   "metadata": {
    "execution": {
     "iopub.execute_input": "2024-06-05T16:12:01.893982Z",
     "iopub.status.busy": "2024-06-05T16:12:01.893565Z",
     "iopub.status.idle": "2024-06-05T16:12:03.438993Z",
     "shell.execute_reply": "2024-06-05T16:12:03.437788Z"
    },
    "papermill": {
     "duration": 1.677666,
     "end_time": "2024-06-05T16:12:03.441887",
     "exception": false,
     "start_time": "2024-06-05T16:12:01.764221",
     "status": "completed"
    },
    "tags": []
   },
   "outputs": [],
   "source": [
    "import seaborn as sns\n",
    "sns.set_style(\"darkgrid\")"
   ]
  },
  {
   "cell_type": "code",
   "execution_count": 19,
   "id": "e10a51a4",
   "metadata": {
    "execution": {
     "iopub.execute_input": "2024-06-05T16:12:03.489099Z",
     "iopub.status.busy": "2024-06-05T16:12:03.488089Z",
     "iopub.status.idle": "2024-06-05T16:12:04.914498Z",
     "shell.execute_reply": "2024-06-05T16:12:04.913385Z"
    },
    "papermill": {
     "duration": 1.454376,
     "end_time": "2024-06-05T16:12:04.917036",
     "exception": false,
     "start_time": "2024-06-05T16:12:03.462660",
     "status": "completed"
    },
    "tags": []
   },
   "outputs": [
    {
     "name": "stderr",
     "output_type": "stream",
     "text": [
      "/opt/conda/lib/python3.10/site-packages/seaborn/_oldcore.py:1119: FutureWarning: use_inf_as_na option is deprecated and will be removed in a future version. Convert inf values to NaN before operating instead.\n",
      "  with pd.option_context('mode.use_inf_as_na', True):\n"
     ]
    },
    {
     "data": {
      "text/plain": [
       "<Axes: xlabel='count', ylabel='Count'>"
      ]
     },
     "execution_count": 19,
     "metadata": {},
     "output_type": "execute_result"
    },
    {
     "data": {
      "image/png": "[encoded data removed]",
      "text/plain": [
       "<Figure size 640x480 with 1 Axes>"
      ]
     },
     "metadata": {},
     "output_type": "display_data"
    }
   ],
   "source": [
    "sns.histplot(cities_by_accident, log_scale=True)"
   ]
  },
  {
   "cell_type": "code",
   "execution_count": 20,
   "id": "ab8c6163",
   "metadata": {
    "execution": {
     "iopub.execute_input": "2024-06-05T16:12:04.961482Z",
     "iopub.status.busy": "2024-06-05T16:12:04.960367Z",
     "iopub.status.idle": "2024-06-05T16:12:04.970968Z",
     "shell.execute_reply": "2024-06-05T16:12:04.969750Z"
    },
    "papermill": {
     "duration": 0.035936,
     "end_time": "2024-06-05T16:12:04.973453",
     "exception": false,
     "start_time": "2024-06-05T16:12:04.937517",
     "status": "completed"
    },
    "tags": []
   },
   "outputs": [
    {
     "data": {
      "text/plain": [
       "City\n",
       "Lake Andes                      1\n",
       "Catoctin                        1\n",
       "Duck Hill                       1\n",
       "Westbrookville                  1\n",
       "Saint Croix                     1\n",
       "                               ..\n",
       "Benkelman                       1\n",
       "Old Appleton                    1\n",
       "Wildrose                        1\n",
       "Mc Nabb                         1\n",
       "American Fork-Pleasant Grove    1\n",
       "Name: count, Length: 1023, dtype: int64"
      ]
     },
     "execution_count": 20,
     "metadata": {},
     "output_type": "execute_result"
    }
   ],
   "source": [
    "cities_by_accident[cities_by_accident == 1]"
   ]
  },
  {
   "cell_type": "markdown",
   "id": "6a2ceccb",
   "metadata": {
    "papermill": {
     "duration": 0.020545,
     "end_time": "2024-06-05T16:12:05.014808",
     "exception": false,
     "start_time": "2024-06-05T16:12:04.994263",
     "status": "completed"
    },
    "tags": []
   },
   "source": [
    "### Start Time"
   ]
  },
  {
   "cell_type": "code",
   "execution_count": 21,
   "id": "75ab7613",
   "metadata": {
    "execution": {
     "iopub.execute_input": "2024-06-05T16:12:05.059402Z",
     "iopub.status.busy": "2024-06-05T16:12:05.058378Z",
     "iopub.status.idle": "2024-06-05T16:12:05.067431Z",
     "shell.execute_reply": "2024-06-05T16:12:05.066293Z"
    },
    "papermill": {
     "duration": 0.033532,
     "end_time": "2024-06-05T16:12:05.069939",
     "exception": false,
     "start_time": "2024-06-05T16:12:05.036407",
     "status": "completed"
    },
    "tags": []
   },
   "outputs": [
    {
     "data": {
      "text/plain": [
       "0          2016-02-08 05:46:00\n",
       "1          2016-02-08 06:07:59\n",
       "2          2016-02-08 06:49:27\n",
       "3          2016-02-08 07:23:34\n",
       "4          2016-02-08 07:39:07\n",
       "                  ...         \n",
       "7728389    2019-08-23 18:03:25\n",
       "7728390    2019-08-23 19:11:30\n",
       "7728391    2019-08-23 19:00:21\n",
       "7728392    2019-08-23 19:00:21\n",
       "7728393    2019-08-23 18:52:06\n",
       "Name: Start_Time, Length: 7728394, dtype: object"
      ]
     },
     "execution_count": 21,
     "metadata": {},
     "output_type": "execute_result"
    }
   ],
   "source": [
    "df.Start_Time"
   ]
  },
  {
   "cell_type": "code",
   "execution_count": 22,
   "id": "0962815f",
   "metadata": {
    "execution": {
     "iopub.execute_input": "2024-06-05T16:12:05.113815Z",
     "iopub.status.busy": "2024-06-05T16:12:05.113407Z",
     "iopub.status.idle": "2024-06-05T16:12:07.346666Z",
     "shell.execute_reply": "2024-06-05T16:12:07.345105Z"
    },
    "papermill": {
     "duration": 2.257555,
     "end_time": "2024-06-05T16:12:07.348499",
     "exception": true,
     "start_time": "2024-06-05T16:12:05.090944",
     "status": "failed"
    },
    "tags": []
   },
   "outputs": [
    {
     "ename": "ValueError",
     "evalue": "unconverted data remains when parsing with format \"%Y-%m-%d %H:%M:%S\": \".000000000\", at position 3639775. You might want to try:\n    - passing `format` if your strings have a consistent format;\n    - passing `format='ISO8601'` if your strings are all ISO8601 but not necessarily in exactly the same format;\n    - passing `format='mixed'`, and the format will be inferred for each element individually. You might want to use `dayfirst` alongside this.",
     "output_type": "error",
     "traceback": [
      "\u001b[0;31m---------------------------------------------------------------------------\u001b[0m",
      "\u001b[0;31mValueError\u001b[0m                                Traceback (most recent call last)",
      "Cell \u001b[0;32mIn[22], line 1\u001b[0m\n\u001b[0;32m----> 1\u001b[0m df\u001b[38;5;241m.\u001b[39mStart_Time \u001b[38;5;241m=\u001b[39m \u001b[43mpd\u001b[49m\u001b[38;5;241;43m.\u001b[39;49m\u001b[43mto_datetime\u001b[49m\u001b[43m(\u001b[49m\u001b[43mdf\u001b[49m\u001b[38;5;241;43m.\u001b[39;49m\u001b[43mStart_Time\u001b[49m\u001b[43m)\u001b[49m\n",
      "File \u001b[0;32m/opt/conda/lib/python3.10/site-packages/pandas/core/tools/datetimes.py:1067\u001b[0m, in \u001b[0;36mto_datetime\u001b[0;34m(arg, errors, dayfirst, yearfirst, utc, format, exact, unit, infer_datetime_format, origin, cache)\u001b[0m\n\u001b[1;32m   1065\u001b[0m         result \u001b[38;5;241m=\u001b[39m arg\u001b[38;5;241m.\u001b[39mmap(cache_array)\n\u001b[1;32m   1066\u001b[0m     \u001b[38;5;28;01melse\u001b[39;00m:\n\u001b[0;32m-> 1067\u001b[0m         values \u001b[38;5;241m=\u001b[39m \u001b[43mconvert_listlike\u001b[49m\u001b[43m(\u001b[49m\u001b[43marg\u001b[49m\u001b[38;5;241;43m.\u001b[39;49m\u001b[43m_values\u001b[49m\u001b[43m,\u001b[49m\u001b[43m \u001b[49m\u001b[38;5;28;43mformat\u001b[39;49m\u001b[43m)\u001b[49m\n\u001b[1;32m   1068\u001b[0m         result \u001b[38;5;241m=\u001b[39m arg\u001b[38;5;241m.\u001b[39m_constructor(values, index\u001b[38;5;241m=\u001b[39marg\u001b[38;5;241m.\u001b[39mindex, name\u001b[38;5;241m=\u001b[39marg\u001b[38;5;241m.\u001b[39mname)\n\u001b[1;32m   1069\u001b[0m \u001b[38;5;28;01melif\u001b[39;00m \u001b[38;5;28misinstance\u001b[39m(arg, (ABCDataFrame, abc\u001b[38;5;241m.\u001b[39mMutableMapping)):\n",
      "File \u001b[0;32m/opt/conda/lib/python3.10/site-packages/pandas/core/tools/datetimes.py:433\u001b[0m, in \u001b[0;36m_convert_listlike_datetimes\u001b[0;34m(arg, format, name, utc, unit, errors, dayfirst, yearfirst, exact)\u001b[0m\n\u001b[1;32m    431\u001b[0m \u001b[38;5;66;03m# `format` could be inferred, or user didn't ask for mixed-format parsing.\u001b[39;00m\n\u001b[1;32m    432\u001b[0m \u001b[38;5;28;01mif\u001b[39;00m \u001b[38;5;28mformat\u001b[39m \u001b[38;5;129;01mis\u001b[39;00m \u001b[38;5;129;01mnot\u001b[39;00m \u001b[38;5;28;01mNone\u001b[39;00m \u001b[38;5;129;01mand\u001b[39;00m \u001b[38;5;28mformat\u001b[39m \u001b[38;5;241m!=\u001b[39m \u001b[38;5;124m\"\u001b[39m\u001b[38;5;124mmixed\u001b[39m\u001b[38;5;124m\"\u001b[39m:\n\u001b[0;32m--> 433\u001b[0m     \u001b[38;5;28;01mreturn\u001b[39;00m \u001b[43m_array_strptime_with_fallback\u001b[49m\u001b[43m(\u001b[49m\u001b[43marg\u001b[49m\u001b[43m,\u001b[49m\u001b[43m \u001b[49m\u001b[43mname\u001b[49m\u001b[43m,\u001b[49m\u001b[43m \u001b[49m\u001b[43mutc\u001b[49m\u001b[43m,\u001b[49m\u001b[43m \u001b[49m\u001b[38;5;28;43mformat\u001b[39;49m\u001b[43m,\u001b[49m\u001b[43m \u001b[49m\u001b[43mexact\u001b[49m\u001b[43m,\u001b[49m\u001b[43m \u001b[49m\u001b[43merrors\u001b[49m\u001b[43m)\u001b[49m\n\u001b[1;32m    435\u001b[0m result, tz_parsed \u001b[38;5;241m=\u001b[39m objects_to_datetime64(\n\u001b[1;32m    436\u001b[0m     arg,\n\u001b[1;32m    437\u001b[0m     dayfirst\u001b[38;5;241m=\u001b[39mdayfirst,\n\u001b[0;32m   (...)\u001b[0m\n\u001b[1;32m    441\u001b[0m     allow_object\u001b[38;5;241m=\u001b[39m\u001b[38;5;28;01mTrue\u001b[39;00m,\n\u001b[1;32m    442\u001b[0m )\n\u001b[1;32m    444\u001b[0m \u001b[38;5;28;01mif\u001b[39;00m tz_parsed \u001b[38;5;129;01mis\u001b[39;00m \u001b[38;5;129;01mnot\u001b[39;00m \u001b[38;5;28;01mNone\u001b[39;00m:\n\u001b[1;32m    445\u001b[0m     \u001b[38;5;66;03m# We can take a shortcut since the datetime64 numpy array\u001b[39;00m\n\u001b[1;32m    446\u001b[0m     \u001b[38;5;66;03m# is in UTC\u001b[39;00m\n",
      "File \u001b[0;32m/opt/conda/lib/python3.10/site-packages/pandas/core/tools/datetimes.py:467\u001b[0m, in \u001b[0;36m_array_strptime_with_fallback\u001b[0;34m(arg, name, utc, fmt, exact, errors)\u001b[0m\n\u001b[1;32m    456\u001b[0m \u001b[38;5;28;01mdef\u001b[39;00m \u001b[38;5;21m_array_strptime_with_fallback\u001b[39m(\n\u001b[1;32m    457\u001b[0m     arg,\n\u001b[1;32m    458\u001b[0m     name,\n\u001b[0;32m   (...)\u001b[0m\n\u001b[1;32m    462\u001b[0m     errors: \u001b[38;5;28mstr\u001b[39m,\n\u001b[1;32m    463\u001b[0m ) \u001b[38;5;241m-\u001b[39m\u001b[38;5;241m>\u001b[39m Index:\n\u001b[1;32m    464\u001b[0m \u001b[38;5;250m    \u001b[39m\u001b[38;5;124;03m\"\"\"\u001b[39;00m\n\u001b[1;32m    465\u001b[0m \u001b[38;5;124;03m    Call array_strptime, with fallback behavior depending on 'errors'.\u001b[39;00m\n\u001b[1;32m    466\u001b[0m \u001b[38;5;124;03m    \"\"\"\u001b[39;00m\n\u001b[0;32m--> 467\u001b[0m     result, tz_out \u001b[38;5;241m=\u001b[39m \u001b[43marray_strptime\u001b[49m\u001b[43m(\u001b[49m\u001b[43marg\u001b[49m\u001b[43m,\u001b[49m\u001b[43m \u001b[49m\u001b[43mfmt\u001b[49m\u001b[43m,\u001b[49m\u001b[43m \u001b[49m\u001b[43mexact\u001b[49m\u001b[38;5;241;43m=\u001b[39;49m\u001b[43mexact\u001b[49m\u001b[43m,\u001b[49m\u001b[43m \u001b[49m\u001b[43merrors\u001b[49m\u001b[38;5;241;43m=\u001b[39;49m\u001b[43merrors\u001b[49m\u001b[43m,\u001b[49m\u001b[43m \u001b[49m\u001b[43mutc\u001b[49m\u001b[38;5;241;43m=\u001b[39;49m\u001b[43mutc\u001b[49m\u001b[43m)\u001b[49m\n\u001b[1;32m    468\u001b[0m     \u001b[38;5;28;01mif\u001b[39;00m tz_out \u001b[38;5;129;01mis\u001b[39;00m \u001b[38;5;129;01mnot\u001b[39;00m \u001b[38;5;28;01mNone\u001b[39;00m:\n\u001b[1;32m    469\u001b[0m         unit \u001b[38;5;241m=\u001b[39m np\u001b[38;5;241m.\u001b[39mdatetime_data(result\u001b[38;5;241m.\u001b[39mdtype)[\u001b[38;5;241m0\u001b[39m]\n",
      "File \u001b[0;32mstrptime.pyx:501\u001b[0m, in \u001b[0;36mpandas._libs.tslibs.strptime.array_strptime\u001b[0;34m()\u001b[0m\n",
      "File \u001b[0;32mstrptime.pyx:451\u001b[0m, in \u001b[0;36mpandas._libs.tslibs.strptime.array_strptime\u001b[0;34m()\u001b[0m\n",
      "File \u001b[0;32mstrptime.pyx:587\u001b[0m, in \u001b[0;36mpandas._libs.tslibs.strptime._parse_with_format\u001b[0;34m()\u001b[0m\n",
      "\u001b[0;31mValueError\u001b[0m: unconverted data remains when parsing with format \"%Y-%m-%d %H:%M:%S\": \".000000000\", at position 3639775. You might want to try:\n    - passing `format` if your strings have a consistent format;\n    - passing `format='ISO8601'` if your strings are all ISO8601 but not necessarily in exactly the same format;\n    - passing `format='mixed'`, and the format will be inferred for each element individually. You might want to use `dayfirst` alongside this."
     ]
    }
   ],
   "source": [
    "df.Start_Time = pd.to_datetime(df.Start_Time)"
   ]
  },
  {
   "cell_type": "code",
   "execution_count": null,
   "id": "897ead73",
   "metadata": {
    "execution": {
     "iopub.execute_input": "2024-06-05T16:01:29.539976Z",
     "iopub.status.busy": "2024-06-05T16:01:29.539568Z",
     "iopub.status.idle": "2024-06-05T16:01:29.550763Z",
     "shell.execute_reply": "2024-06-05T16:01:29.549444Z",
     "shell.execute_reply.started": "2024-06-05T16:01:29.539947Z"
    },
    "papermill": {
     "duration": null,
     "end_time": null,
     "exception": null,
     "start_time": null,
     "status": "pending"
    },
    "tags": []
   },
   "outputs": [],
   "source": [
    "df['Start_Time']\n"
   ]
  },
  {
   "cell_type": "markdown",
   "id": "52652e53",
   "metadata": {
    "papermill": {
     "duration": null,
     "end_time": null,
     "exception": null,
     "start_time": null,
     "status": "pending"
    },
    "tags": []
   },
   "source": [
    "- Figure out how to show percentages"
   ]
  },
  {
   "cell_type": "code",
   "execution_count": null,
   "id": "59b8de18",
   "metadata": {
    "execution": {
     "iopub.execute_input": "2024-06-05T16:02:30.279019Z",
     "iopub.status.busy": "2024-06-05T16:02:30.278582Z",
     "iopub.status.idle": "2024-06-05T16:02:31.104853Z",
     "shell.execute_reply": "2024-06-05T16:02:31.103652Z",
     "shell.execute_reply.started": "2024-06-05T16:02:30.278982Z"
    },
    "papermill": {
     "duration": null,
     "end_time": null,
     "exception": null,
     "start_time": null,
     "status": "pending"
    },
    "tags": []
   },
   "outputs": [],
   "source": [
    "sns.distplot(df.Start_Time.dt.hour, bins=24, kde=False, norm_hist=True)"
   ]
  },
  {
   "cell_type": "code",
   "execution_count": null,
   "id": "f82eaf4e",
   "metadata": {
    "execution": {
     "iopub.execute_input": "2024-06-05T16:07:43.338004Z",
     "iopub.status.busy": "2024-06-05T16:07:43.337594Z",
     "iopub.status.idle": "2024-06-05T16:07:44.297607Z",
     "shell.execute_reply": "2024-06-05T16:07:44.296331Z",
     "shell.execute_reply.started": "2024-06-05T16:07:43.337976Z"
    },
    "papermill": {
     "duration": null,
     "end_time": null,
     "exception": null,
     "start_time": null,
     "status": "pending"
    },
    "tags": []
   },
   "outputs": [],
   "source": [
    "sns.distplot(df.Start_Time.dt.dayofweek, bins=7, kde=False, norm_hist=True)"
   ]
  },
  {
   "cell_type": "code",
   "execution_count": null,
   "id": "b96ac1bf",
   "metadata": {
    "execution": {
     "iopub.execute_input": "2024-06-05T16:07:57.664478Z",
     "iopub.status.busy": "2024-06-05T16:07:57.664003Z",
     "iopub.status.idle": "2024-06-05T16:07:58.451532Z",
     "shell.execute_reply": "2024-06-05T16:07:58.450222Z",
     "shell.execute_reply.started": "2024-06-05T16:07:57.664436Z"
    },
    "papermill": {
     "duration": null,
     "end_time": null,
     "exception": null,
     "start_time": null,
     "status": "pending"
    },
    "tags": []
   },
   "outputs": [],
   "source": [
    "sundays_start_time = df.Start_Time[df.Start_Time.dt.dayofweek == 6]\n",
    "sns.distplot(sundays_start_time.dt.hour, bins=24, kde=False, norm_hist=True)"
   ]
  },
  {
   "cell_type": "code",
   "execution_count": null,
   "id": "628b101b",
   "metadata": {
    "execution": {
     "iopub.execute_input": "2024-06-05T16:08:09.924996Z",
     "iopub.status.busy": "2024-06-05T16:08:09.924582Z",
     "iopub.status.idle": "2024-06-05T16:08:10.768033Z",
     "shell.execute_reply": "2024-06-05T16:08:10.766915Z",
     "shell.execute_reply.started": "2024-06-05T16:08:09.924963Z"
    },
    "papermill": {
     "duration": null,
     "end_time": null,
     "exception": null,
     "start_time": null,
     "status": "pending"
    },
    "tags": []
   },
   "outputs": [],
   "source": [
    "monday_start_time = df.Start_Time[df.Start_Time.dt.dayofweek == 0]\n",
    "sns.distplot(monday_start_time.dt.hour, bins=24, kde=False, norm_hist=True)"
   ]
  },
  {
   "cell_type": "code",
   "execution_count": null,
   "id": "c1211a3f",
   "metadata": {
    "execution": {
     "iopub.execute_input": "2024-06-05T16:08:22.622938Z",
     "iopub.status.busy": "2024-06-05T16:08:22.622457Z",
     "iopub.status.idle": "2024-06-05T16:08:24.219680Z",
     "shell.execute_reply": "2024-06-05T16:08:24.218415Z",
     "shell.execute_reply.started": "2024-06-05T16:08:22.622902Z"
    },
    "papermill": {
     "duration": null,
     "end_time": null,
     "exception": null,
     "start_time": null,
     "status": "pending"
    },
    "tags": []
   },
   "outputs": [],
   "source": [
    "df_2019 = df[df.Start_Time.dt.year == 2019]\n",
    "df_2019_Bing = df_2019[df_2019.Source == 'MapQuest']\n",
    "sns.distplot(df_2019_Bing.Start_Time.dt.month, bins=12, kde=False, norm_hist=True)"
   ]
  },
  {
   "cell_type": "code",
   "execution_count": null,
   "id": "6e308b7a",
   "metadata": {
    "execution": {
     "iopub.execute_input": "2024-06-05T16:08:36.118389Z",
     "iopub.status.busy": "2024-06-05T16:08:36.117936Z",
     "iopub.status.idle": "2024-06-05T16:08:37.838471Z",
     "shell.execute_reply": "2024-06-05T16:08:37.836853Z",
     "shell.execute_reply.started": "2024-06-05T16:08:36.118340Z"
    },
    "papermill": {
     "duration": null,
     "end_time": null,
     "exception": null,
     "start_time": null,
     "status": "pending"
    },
    "tags": []
   },
   "outputs": [],
   "source": [
    "df.Source.value_counts().plot(kind='pie')"
   ]
  },
  {
   "cell_type": "markdown",
   "id": "0432690b",
   "metadata": {
    "papermill": {
     "duration": null,
     "end_time": null,
     "exception": null,
     "start_time": null,
     "status": "pending"
    },
    "tags": []
   },
   "source": [
    "### Start Latitude & Longitude\n"
   ]
  },
  {
   "cell_type": "code",
   "execution_count": null,
   "id": "e48e115a",
   "metadata": {
    "execution": {
     "iopub.execute_input": "2024-06-05T14:55:06.679812Z",
     "iopub.status.busy": "2024-06-05T14:55:06.679364Z",
     "iopub.status.idle": "2024-06-05T14:55:06.690221Z",
     "shell.execute_reply": "2024-06-05T14:55:06.688896Z",
     "shell.execute_reply.started": "2024-06-05T14:55:06.679780Z"
    },
    "papermill": {
     "duration": null,
     "end_time": null,
     "exception": null,
     "start_time": null,
     "status": "pending"
    },
    "tags": []
   },
   "outputs": [],
   "source": [
    "df.Start_Lat"
   ]
  },
  {
   "cell_type": "code",
   "execution_count": null,
   "id": "4b2425f4",
   "metadata": {
    "execution": {
     "iopub.execute_input": "2024-06-05T14:55:13.072678Z",
     "iopub.status.busy": "2024-06-05T14:55:13.072233Z",
     "iopub.status.idle": "2024-06-05T14:55:13.082423Z",
     "shell.execute_reply": "2024-06-05T14:55:13.081153Z",
     "shell.execute_reply.started": "2024-06-05T14:55:13.072645Z"
    },
    "papermill": {
     "duration": null,
     "end_time": null,
     "exception": null,
     "start_time": null,
     "status": "pending"
    },
    "tags": []
   },
   "outputs": [],
   "source": [
    "df.Start_Lng"
   ]
  },
  {
   "cell_type": "code",
   "execution_count": null,
   "id": "0980f299",
   "metadata": {
    "execution": {
     "iopub.execute_input": "2024-06-05T14:55:22.484285Z",
     "iopub.status.busy": "2024-06-05T14:55:22.483899Z",
     "iopub.status.idle": "2024-06-05T14:55:25.474684Z",
     "shell.execute_reply": "2024-06-05T14:55:25.473466Z",
     "shell.execute_reply.started": "2024-06-05T14:55:22.484257Z"
    },
    "papermill": {
     "duration": null,
     "end_time": null,
     "exception": null,
     "start_time": null,
     "status": "pending"
    },
    "tags": []
   },
   "outputs": [],
   "source": [
    "sample_df = df.sample(int(0.1 * len(df)))"
   ]
  },
  {
   "cell_type": "code",
   "execution_count": null,
   "id": "b0aff554",
   "metadata": {
    "execution": {
     "iopub.execute_input": "2024-06-05T14:55:32.847683Z",
     "iopub.status.busy": "2024-06-05T14:55:32.847245Z",
     "iopub.status.idle": "2024-06-05T14:56:12.920993Z",
     "shell.execute_reply": "2024-06-05T14:56:12.919782Z",
     "shell.execute_reply.started": "2024-06-05T14:55:32.847654Z"
    },
    "papermill": {
     "duration": null,
     "end_time": null,
     "exception": null,
     "start_time": null,
     "status": "pending"
    },
    "tags": []
   },
   "outputs": [],
   "source": [
    "sns.scatterplot(x=sample_df.Start_Lng, y=sample_df.Start_Lat, size=0.001)"
   ]
  },
  {
   "cell_type": "code",
   "execution_count": null,
   "id": "58bc8290",
   "metadata": {
    "execution": {
     "iopub.execute_input": "2024-06-05T14:59:07.178451Z",
     "iopub.status.busy": "2024-06-05T14:59:07.177351Z",
     "iopub.status.idle": "2024-06-05T14:59:07.635531Z",
     "shell.execute_reply": "2024-06-05T14:59:07.634492Z",
     "shell.execute_reply.started": "2024-06-05T14:59:07.178395Z"
    },
    "papermill": {
     "duration": null,
     "end_time": null,
     "exception": null,
     "start_time": null,
     "status": "pending"
    },
    "tags": []
   },
   "outputs": [],
   "source": [
    "import folium"
   ]
  },
  {
   "cell_type": "code",
   "execution_count": null,
   "id": "a03725ca",
   "metadata": {
    "execution": {
     "iopub.execute_input": "2024-06-05T14:59:16.427886Z",
     "iopub.status.busy": "2024-06-05T14:59:16.426719Z",
     "iopub.status.idle": "2024-06-05T14:59:16.438659Z",
     "shell.execute_reply": "2024-06-05T14:59:16.437478Z",
     "shell.execute_reply.started": "2024-06-05T14:59:16.427848Z"
    },
    "papermill": {
     "duration": null,
     "end_time": null,
     "exception": null,
     "start_time": null,
     "status": "pending"
    },
    "tags": []
   },
   "outputs": [],
   "source": [
    "lat, lon = df.Start_Lat[0], df.Start_Lng[0]\n",
    "lat, lon"
   ]
  },
  {
   "cell_type": "code",
   "execution_count": null,
   "id": "ea11c7fa",
   "metadata": {
    "execution": {
     "iopub.execute_input": "2024-06-05T16:06:43.552008Z",
     "iopub.status.busy": "2024-06-05T16:06:43.551600Z",
     "iopub.status.idle": "2024-06-05T16:06:43.977829Z",
     "shell.execute_reply": "2024-06-05T16:06:43.976469Z",
     "shell.execute_reply.started": "2024-06-05T16:06:43.551978Z"
    },
    "papermill": {
     "duration": null,
     "end_time": null,
     "exception": null,
     "start_time": null,
     "status": "pending"
    },
    "tags": []
   },
   "outputs": [],
   "source": [
    "for x in df[['Start_Lat', 'Start_Lng']].sample(100).items():\n",
    "    print(x[1])"
   ]
  },
  {
   "cell_type": "markdown",
   "id": "f7e2e7c2",
   "metadata": {
    "papermill": {
     "duration": null,
     "end_time": null,
     "exception": null,
     "start_time": null,
     "status": "pending"
    },
    "tags": []
   },
   "source": []
  },
  {
   "cell_type": "code",
   "execution_count": null,
   "id": "1663c3cb",
   "metadata": {
    "execution": {
     "iopub.execute_input": "2024-06-05T14:59:44.180764Z",
     "iopub.status.busy": "2024-06-05T14:59:44.180289Z",
     "iopub.status.idle": "2024-06-05T14:59:47.106090Z",
     "shell.execute_reply": "2024-06-05T14:59:47.104718Z",
     "shell.execute_reply.started": "2024-06-05T14:59:44.180729Z"
    },
    "papermill": {
     "duration": null,
     "end_time": null,
     "exception": null,
     "start_time": null,
     "status": "pending"
    },
    "tags": []
   },
   "outputs": [],
   "source": [
    "zip(list(df.Start_Lat), list(df.Start_Lng))"
   ]
  },
  {
   "cell_type": "code",
   "execution_count": null,
   "id": "5283fad1",
   "metadata": {
    "execution": {
     "iopub.execute_input": "2024-06-05T15:40:36.184067Z",
     "iopub.status.busy": "2024-06-05T15:40:36.183566Z",
     "iopub.status.idle": "2024-06-05T15:40:37.276139Z",
     "shell.execute_reply": "2024-06-05T15:40:37.274885Z",
     "shell.execute_reply.started": "2024-06-05T15:40:36.183998Z"
    },
    "papermill": {
     "duration": null,
     "end_time": null,
     "exception": null,
     "start_time": null,
     "status": "pending"
    },
    "tags": []
   },
   "outputs": [],
   "source": [
    "from folium.plugins import HeatMap"
   ]
  },
  {
   "cell_type": "code",
   "execution_count": null,
   "id": "3ab36d1b",
   "metadata": {
    "execution": {
     "iopub.execute_input": "2024-06-05T15:40:50.749031Z",
     "iopub.status.busy": "2024-06-05T15:40:50.748646Z",
     "iopub.status.idle": "2024-06-05T15:40:55.824216Z",
     "shell.execute_reply": "2024-06-05T15:40:55.822916Z",
     "shell.execute_reply.started": "2024-06-05T15:40:50.749002Z"
    },
    "papermill": {
     "duration": null,
     "end_time": null,
     "exception": null,
     "start_time": null,
     "status": "pending"
    },
    "tags": []
   },
   "outputs": [],
   "source": [
    "sample_df = df.sample(int(0.001 * len(df)))\n",
    "lat_lon_pairs = list(zip(list(sample_df.Start_Lat), list(sample_df.Start_Lng)))"
   ]
  },
  {
   "cell_type": "code",
   "execution_count": null,
   "id": "d1339b64",
   "metadata": {
    "execution": {
     "iopub.execute_input": "2024-06-05T15:41:05.269281Z",
     "iopub.status.busy": "2024-06-05T15:41:05.268837Z",
     "iopub.status.idle": "2024-06-05T15:41:05.431349Z",
     "shell.execute_reply": "2024-06-05T15:41:05.429965Z",
     "shell.execute_reply.started": "2024-06-05T15:41:05.269247Z"
    },
    "papermill": {
     "duration": null,
     "end_time": null,
     "exception": null,
     "start_time": null,
     "status": "pending"
    },
    "tags": []
   },
   "outputs": [],
   "source": [
    "map = folium.Map()\n",
    "HeatMap(lat_lon_pairs).add_to(map)\n",
    "map"
   ]
  },
  {
   "cell_type": "markdown",
   "id": "264d29a8",
   "metadata": {
    "papermill": {
     "duration": null,
     "end_time": null,
     "exception": null,
     "start_time": null,
     "status": "pending"
    },
    "tags": []
   },
   "source": [
    "## Ask & answer questions\n",
    "\n",
    "1. Are there more accidents in warmer or colder areas?\n",
    "2. Which 5 states have the highest number of accidents? How about per capita?\n",
    "3. Does New York show up in the data? If yes, why is the count lower if this the most populated city.\n",
    "4. Among the top 100 cities in number of accidents, which states do they belong to most frequently.\n",
    "5. What time of the day are accidents most frequent in? - ANSWERED\n",
    "6. Which days of the week have the most accidents?\n",
    "7. Which months have the most accidents?\n",
    "8. What is the trend of accidents year over year (decreasing/increasing?)\n",
    "9. When is accidents per unit of traffic the highest."
   ]
  },
  {
   "cell_type": "markdown",
   "id": "da598e93",
   "metadata": {
    "papermill": {
     "duration": null,
     "end_time": null,
     "exception": null,
     "start_time": null,
     "status": "pending"
    },
    "tags": []
   },
   "source": [
    "## Summary and Conclusion\n",
    "\n",
    "\n",
    "Insights:\n",
    "- No data from New York\n",
    "- The number of accidents per city decreases exponentially\n",
    "- Less than 5% of cities have more than 1000 yearly accidents.\n",
    "- Over 1200 cities have reported just one accident (need to investigate)\n"
   ]
  },
  {
   "cell_type": "code",
   "execution_count": null,
   "id": "c699cb60",
   "metadata": {
    "papermill": {
     "duration": null,
     "end_time": null,
     "exception": null,
     "start_time": null,
     "status": "pending"
    },
    "tags": []
   },
   "outputs": [],
   "source": []
  }
 ],
 "metadata": {
  "kaggle": {
   "accelerator": "none",
   "dataSources": [
    {
     "datasetId": 199387,
     "sourceId": 5793796,
     "sourceType": "datasetVersion"
    }
   ],
   "dockerImageVersionId": 30732,
   "isGpuEnabled": false,
   "isInternetEnabled": true,
   "language": "python",
   "sourceType": "notebook"
  },
  "kernelspec": {
   "display_name": "Python 3",
   "language": "python",
   "name": "python3"
  },
  "language_info": {
   "codemirror_mode": {
    "name": "ipython",
    "version": 3
   },
   "file_extension": ".py",
   "mimetype": "text/x-python",
   "name": "python",
   "nbconvert_exporter": "python",
   "pygments_lexer": "ipython3",
   "version": "3.10.13"
  },
  "papermill": {
   "default_parameters": {},
   "duration": 174.525443,
   "end_time": "2024-06-05T16:12:08.595399",
   "environment_variables": {},
   "exception": true,
   "input_path": "__notebook__.ipynb",
   "output_path": "__notebook__.ipynb",
   "parameters": {},
   "start_time": "2024-06-05T16:09:14.069956",
   "version": "2.5.0"
  }
 },
 "nbformat": 4,
 "nbformat_minor": 5
}
